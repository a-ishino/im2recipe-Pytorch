{
 "cells": [
  {
   "cell_type": "markdown",
   "metadata": {},
   "source": [
    "### 環境構築\n",
    "`torchwordemb` のinstallが大変"
   ]
  },
  {
   "cell_type": "code",
   "execution_count": null,
   "metadata": {},
   "outputs": [],
   "source": [
    "conda create -n hoge python=3.6 # 結局 Python のバージョンは関係なかったらしい\n",
    "conda activate hoge\n",
    "conda install pytorch=1.4.0\n",
    "conda install gxx_linux-64 # これめっちゃ大事\n",
    "pip install torchwordemb\n",
    "conda install scipy=1.1.0\n",
    "conda install torchfile -c conda-forge\n",
    "conda install nltk\n",
    "conda install word2vec"
   ]
  },
  {
   "cell_type": "markdown",
   "metadata": {},
   "source": [
    "### Interactive Node への接続"
   ]
  },
  {
   "cell_type": "code",
   "execution_count": null,
   "metadata": {},
   "outputs": [],
   "source": [
    "qrsh -g gcb50373 -l rt_G.small=1 -l h_rt=01:00:00"
   ]
  },
  {
   "cell_type": "code",
   "execution_count": null,
   "metadata": {},
   "outputs": [],
   "source": [
    "qrsh -g gcc50453 -l rt_G.small=1 -l h_rt=01:00:00"
   ]
  },
  {
   "cell_type": "code",
   "execution_count": null,
   "metadata": {},
   "outputs": [],
   "source": [
    "python train.py --img_path /dataset/images/ --data_path data/test/ --ingrW2V data/test/vocab.bin --snapshots snapshots/ --valfreq 10"
   ]
  }
 ],
 "metadata": {
  "kernelspec": {
   "display_name": "Python 3",
   "language": "python",
   "name": "python3"
  },
  "language_info": {
   "codemirror_mode": {
    "name": "ipython",
    "version": 3
   },
   "file_extension": ".py",
   "mimetype": "text/x-python",
   "name": "python",
   "nbconvert_exporter": "python",
   "pygments_lexer": "ipython3",
   "version": "3.7.4"
  }
 },
 "nbformat": 4,
 "nbformat_minor": 4
}
