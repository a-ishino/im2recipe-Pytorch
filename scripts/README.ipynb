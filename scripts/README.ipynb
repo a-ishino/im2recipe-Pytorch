{
 "cells": [
  {
   "cell_type": "markdown",
   "metadata": {},
   "source": [
    "# im2recipe-Pytorch\n",
    "Learning Cross-modal Embeddings for Cooking Recipes and Food Images (CVPR2017) の[公開コード](https://github.com/torralba-lab/im2recipe-Pytorch)を改良したもの"
   ]
  },
  {
   "cell_type": "markdown",
   "metadata": {},
   "source": [
    "## 1-1. Train用データの用意"
   ]
  },
  {
   "cell_type": "markdown",
   "metadata": {},
   "source": [
    "`layer1.json` （`ingredients`, `partition`, `title`, `id`, `instructions`）、 <br>\n",
    "`layer2.json` （`id`、 `images`）、<br>\n",
    "`det_ingrs.json` （`valid`、 `id`、 `ingredients`） および画像データを用意する。<br>"
   ]
  },
  {
   "cell_type": "markdown",
   "metadata": {},
   "source": [
    "data_dir\n",
    "├── layers\n",
    "│   ├── layer1.json\n",
    "│   ├── layer2.json\n",
    "│   └── det_ingrs.json\n",
    "├── images\n",
    "│   ├── train\n",
    "│   ├── test\n",
    "│   └── val\n",
    "├── food101_classes_renamed.txt\n",
    "└── remove1M.txt\n",
    "\n",
    "im2recipe-Pytorch\n",
    "├── data\n",
    "│   └── tag\n",
    "├── logs\n",
    "│   └── tag\n",
    "├── results\n",
    "│   └── tag\n",
    "├── scripts\n",
    "│   └── _word2vec\n",
    "└── snapshots\n",
    "    └── tag"
   ]
  },
  {
   "cell_type": "markdown",
   "metadata": {},
   "source": [
    "## 1-2. Installation"
   ]
  },
  {
   "cell_type": "code",
   "execution_count": null,
   "metadata": {},
   "outputs": [],
   "source": [
    "conda create --name recipe1m python=3.7\n",
    "sorce activate recipe1m\n",
    "conda install pytorch=1.4.0\n",
    "conda install gxx_linux-64 # これめっちゃ大事\n",
    "pip install torchwordemb\n",
    "conda install scipy=1.1.0\n",
    "\n",
    "conda install simplejson\n",
    "conda install tqdm\n",
    "conda install pillow\n",
    "conda install nltk\n",
    "conda install word2vec\n",
    "\n",
    "conda install numpy\n",
    "conda install scikit-learn\n",
    "conda install transformers=2 -c conda-forge\n",
    "\n",
    "conda install python-lmdb\n",
    "conda install torchfile -c conda-forge\n",
    "\n",
    "conda install torchvision\n",
    "conda install tensorboard"
   ]
  },
  {
   "cell_type": "markdown",
   "metadata": {},
   "source": [
    "## 1-3. 小さめの入力データを用意する。"
   ]
  },
  {
   "cell_type": "code",
   "execution_count": null,
   "metadata": {},
   "outputs": [],
   "source": [
    "!python mk_small_data.py -data_path=/groups1/gcb50373/dataset/recipe1M/layers/ -out_path=../data -tag=10K"
   ]
  },
  {
   "cell_type": "markdown",
   "metadata": {},
   "source": [
    "## 2-1. word2vecのtrain\n",
    "料理手順 instructions について、token化した上でword2vecをtrainする。`vocab.bin` を生成。 <br>\n",
    "\n",
    "### 2-1-1. tokenize\n",
    "`layer1.json`　の instructions を token化。 `tokenized_insts_train.txt` を生成。\n",
    "- INPUT : `layer1.json`, `det_ingrs.json` <br>\n",
    "- OUTPUT : `tokenized_insts_train.txt`, `tokenized_insts_val.txt`, `tokenized_insts_test.txt` <br>"
   ]
  },
  {
   "cell_type": "code",
   "execution_count": null,
   "metadata": {},
   "outputs": [],
   "source": [
    "!python tokenize_instructions.py -data_path=../data -tag=10K"
   ]
  },
  {
   "cell_type": "markdown",
   "metadata": {},
   "source": [
    "### 2-1-2. word2vecのビルド"
   ]
  },
  {
   "cell_type": "code",
   "execution_count": 36,
   "metadata": {},
   "outputs": [],
   "source": [
    "!cd ~/workspace/joint-embedding/im2recipe-Pytorch/scripts\n",
    "!wget https://storage.googleapis.com/google-code-archive-source/v2/code.google.com/word2vec/source-archive.zip\n",
    "!unzip source-archive.zip\n",
    "!mv word2vec/ _word2vec/  # rename\n",
    "!cd _word2vec/trunk/\n",
    "!make word2vec\n",
    "!cd ../../"
   ]
  },
  {
   "cell_type": "markdown",
   "metadata": {},
   "source": [
    "### 2-1-3. vocab.bin の生成\n",
    "`tokenized_insts_train.txt` を用いてword2vecのtrain。 `vocab.bin` を生成。\n",
    "- INPUT : `tokenized_insts_train.txt`, `det_ingrs.json` <br>\n",
    "- OUTPUT : `tokenized_insts_train.txt`, `tokenized_insts_val.txt`, `tokenized_insts_test.txt` <br>"
   ]
  },
  {
   "cell_type": "code",
   "execution_count": null,
   "metadata": {},
   "outputs": [],
   "source": [
    "!./_word2vec/trunk/word2vec -hs 1 -negative 0 -window 10 -cbow 0 -iter 10 -size 300 -binary 1 -min-count 20 -threads 20 -train ../data/tag/insts/tokenized_insts_train.txt -output ../data/tag/vocab.bin"
   ]
  },
  {
   "cell_type": "markdown",
   "metadata": {},
   "source": [
    "### 2-1-4. vocab.bin の確認\n",
    "`vocab.bin` を可視化する。"
   ]
  },
  {
   "cell_type": "code",
   "execution_count": 38,
   "metadata": {},
   "outputs": [
    {
     "name": "stdout",
     "output_type": "stream",
     "text": [
      "Writing to ../data/recipe10T/vocab.txt...\n",
      "done\n"
     ]
    }
   ],
   "source": [
    "!python get_vocab.py ../data/tag/vocab.bin"
   ]
  },
  {
   "cell_type": "markdown",
   "metadata": {},
   "source": [
    "## 2-2. 料理 title の class 分類？\n",
    "この部分使ってなくね？ → mk_dataset.py で使ってた\n",
    "### 2-2-1. bigram の生成\n",
    "料理名 title について、頻度順のbi-gram (`bigram.pkl`） と 料理名一覧（`titles.txt`） を生成 <br>\n",
    "- INPUT : `layer1.json`, `layer2.json`, `det_ingrs.json` <br>\n",
    "- OUTPUT : `bigrams.pkl`, `titles.txt` <br>"
   ]
  },
  {
   "cell_type": "code",
   "execution_count": null,
   "metadata": {},
   "outputs": [],
   "source": [
    "!python bigrams.py --crtbgrs -data_path=../data -tag=10K"
   ]
  },
  {
   "cell_type": "markdown",
   "metadata": {},
   "source": [
    "### 2-2-2. classes.pkl の生成\n",
    "bigramの結果からクラスを抽出\n",
    "- INPUT : `vocab.txt`, `layer2.json`, `det_ingrs.json` <br>\n",
    "- OUTPUT : `bigrams.pkl`, `titles.txt` <br>"
   ]
  },
  {
   "cell_type": "code",
   "execution_count": null,
   "metadata": {},
   "outputs": [],
   "source": [
    "!python bigrams.py --nocrtbgrs -data_path=../data -tag=10K -f101_cats=path/to/food101_classes_renamed.txt"
   ]
  },
  {
   "cell_type": "markdown",
   "metadata": {},
   "source": [
    "## 2-3. instructions の embedding\n",
    "`layer1.json` の `instructions` について skip-thoughts でベクトル化したもの = `skip-instructions` を生成するのだが、Pytorchのコードが公開されていないため、BERTによるembeddingに置き換える。<br>\n",
    "GPUサーバにログインして以下を実行。"
   ]
  },
  {
   "cell_type": "code",
   "execution_count": null,
   "metadata": {},
   "outputs": [],
   "source": [
    "### Run on GPU\n",
    "python bert-embedding.py -data_path=../data -tag=10K"
   ]
  },
  {
   "cell_type": "markdown",
   "metadata": {},
   "source": [
    "## 2-4. データセットをLMDB形式にまとめる\n",
    "mk_dataset.py は parameter 参照時に ../args.py を見ているので注意  "
   ]
  },
  {
   "cell_type": "code",
   "execution_count": null,
   "metadata": {},
   "outputs": [],
   "source": [
    "### Run on GPU\n",
    "python mk_dataset.py -emb_type=bert -data_path=../data/ -tag=10K -remove1m=path/to/remove1M.txt"
   ]
  },
  {
   "cell_type": "markdown",
   "metadata": {},
   "source": [
    "## 3. Training\n",
    "公式のLMDBを用いる場合は、inst_emb=st を指定する。 <br>\n",
    "BERTでembedした結果のLMDBを用いる場合は、inst_emb=bertを指定する(default)"
   ]
  },
  {
   "cell_type": "code",
   "execution_count": null,
   "metadata": {},
   "outputs": [],
   "source": [
    "cd workspace/joint-embedding/im2recipe-Pytorch/\n",
    "python train.py \\\n",
    "-img_path=/groups1/gcb50373/dataset/recipe1M/images/ \\\n",
    "-data_path=data \\\n",
    "-tag=10K \\\n",
    "-n_samples=200 \\\n",
    "-medr=100 "
   ]
  },
  {
   "cell_type": "markdown",
   "metadata": {},
   "source": [
    "## 4. Test\n",
    "train したモデルを用いて、testデータをembed"
   ]
  },
  {
   "cell_type": "code",
   "execution_count": null,
   "metadata": {},
   "outputs": [],
   "source": [
    "python test.py  \\\n",
    "-img_path /groups1/gcb50373/dataset/recipe1M/images/ \\\n",
    "-data_path=data \\\n",
    "-tag=recipe1M \\\n",
    "-model_path=snapshots/10K/2020-07-23_08:04/model_n200_e020_v-44.000.pth.tar"
   ]
  },
  {
   "cell_type": "code",
   "execution_count": null,
   "metadata": {},
   "outputs": [],
   "source": [
    "qsub -g gcb50373 test.sh"
   ]
  },
  {
   "cell_type": "markdown",
   "metadata": {},
   "source": [
    "## Rank"
   ]
  },
  {
   "cell_type": "code",
   "execution_count": null,
   "metadata": {},
   "outputs": [],
   "source": [
    "cd scripts/\n",
    "python rank.py --path_results=../results/recipe10K/ --medr=100"
   ]
  },
  {
   "cell_type": "code",
   "execution_count": null,
   "metadata": {},
   "outputs": [],
   "source": [
    "python rank.py --path_results=../results/test/ --medr=10"
   ]
  },
  {
   "cell_type": "code",
   "execution_count": null,
   "metadata": {},
   "outputs": [],
   "source": [
    "python rank.py --path_results=../results/recipe1M/"
   ]
  }
 ],
 "metadata": {
  "kernelspec": {
   "display_name": "scipy",
   "language": "python",
   "name": "scipy"
  },
  "language_info": {
   "codemirror_mode": {
    "name": "ipython",
    "version": 3
   },
   "file_extension": ".py",
   "mimetype": "text/x-python",
   "name": "python",
   "nbconvert_exporter": "python",
   "pygments_lexer": "ipython3",
   "version": "3.7.4"
  }
 },
 "nbformat": 4,
 "nbformat_minor": 4
}
